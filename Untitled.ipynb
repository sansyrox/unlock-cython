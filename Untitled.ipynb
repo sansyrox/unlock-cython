{
 "cells": [
  {
   "cell_type": "code",
   "execution_count": 1,
   "metadata": {},
   "outputs": [],
   "source": [
    "%load_ext Cython"
   ]
  },
  {
   "cell_type": "code",
   "execution_count": 2,
   "metadata": {
    "scrolled": true
   },
   "outputs": [],
   "source": [
    "%%cython\n",
    "\n",
    "import dill as marshal\n",
    "from threading import Thread\n",
    "from libc.stdio cimport printf\n",
    "\n",
    "with open(\"bruh.dat\",\"rb\") as fh:\n",
    "    data = marshal.load(fh)\n",
    "\n",
    "cdef int bypass_function() nogil except +:\n",
    "    printf(\"%x\\n\",1)\n",
    "    return 0\n",
    "\n",
    "from cython.parallel import prange\n",
    "\n",
    "cdef int i\n",
    "\n",
    "for i in prange(2, nogil=True):\n",
    "    bypass_function()\n",
    "    \n",
    "print(\"Hello WOrld\")"
   ]
  },
  {
   "cell_type": "code",
   "execution_count": null,
   "metadata": {},
   "outputs": [],
   "source": []
  },
  {
   "cell_type": "code",
   "execution_count": null,
   "metadata": {},
   "outputs": [],
   "source": []
  }
 ],
 "metadata": {
  "kernelspec": {
   "display_name": "Python 3",
   "language": "python",
   "name": "python3"
  },
  "language_info": {
   "codemirror_mode": {
    "name": "ipython",
    "version": 3
   },
   "file_extension": ".py",
   "mimetype": "text/x-python",
   "name": "python",
   "nbconvert_exporter": "python",
   "pygments_lexer": "ipython3",
   "version": "3.8.5"
  }
 },
 "nbformat": 4,
 "nbformat_minor": 4
}
